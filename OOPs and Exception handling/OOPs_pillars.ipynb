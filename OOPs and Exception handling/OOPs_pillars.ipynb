{
 "cells": [
  {
   "cell_type": "markdown",
   "id": "b8f0d9f4",
   "metadata": {},
   "source": [
    "#### Relationship  2:31:01\n",
    "i) Aggregation (Has-A):customer has a address\n",
    "\n",
    "ii) Inheritance (Is-A) : car is a vehicle\n",
    "\n",
    "### Aggregation"
   ]
  },
  {
   "cell_type": "code",
   "execution_count": 9,
   "id": "b8afd163",
   "metadata": {},
   "outputs": [],
   "source": [
    "class Customer:\n",
    "    \n",
    "    def __init__(self, name, gender, address):\n",
    "        self.name = name\n",
    "        self.gender = gender\n",
    "        self.address = address\n",
    "        \n",
    "    def edit_profile(self, new_name, new_city, new_pin, new_state):\n",
    "        self.name = new_name\n",
    "        self.address.change_address(new_city, new_pin, new_state)\n",
    "        \n",
    "class Address:\n",
    "    \n",
    "    def __init__(self, city, pin, state):\n",
    "        self.city = city\n",
    "        self.pin = pin\n",
    "        self.state = state\n",
    "        \n",
    "    def change_address(self, new_city, new_pin, new_state):\n",
    "        self.city = new_city\n",
    "        self.pin = new_pin\n",
    "        self.state = new_state"
   ]
  },
  {
   "cell_type": "code",
   "execution_count": 3,
   "id": "e7892fcd",
   "metadata": {},
   "outputs": [
    {
     "name": "stdout",
     "output_type": "stream",
     "text": [
      "<__main__.Address object at 0x000002063416B430>\n"
     ]
    }
   ],
   "source": [
    "add = Address('surat', 65478, 'Gujarat')\n",
    "cust = Customer(\"chirag\", \"M\", add)\n",
    "print(cust.address)"
   ]
  },
  {
   "cell_type": "code",
   "execution_count": 5,
   "id": "90ad6a6e",
   "metadata": {},
   "outputs": [
    {
     "name": "stdout",
     "output_type": "stream",
     "text": [
      "surat\n",
      "65478\n"
     ]
    }
   ],
   "source": [
    "print(cust.address.city)\n",
    "print(cust.address.pin)"
   ]
  },
  {
   "cell_type": "code",
   "execution_count": 10,
   "id": "a7c084aa",
   "metadata": {},
   "outputs": [],
   "source": [
    "cust.edit_profile(\"hasjd\", \"bardoli\", 39460, \"gj\")"
   ]
  },
  {
   "cell_type": "markdown",
   "id": "21a29c99",
   "metadata": {},
   "source": [
    "## Inheritance"
   ]
  },
  {
   "cell_type": "code",
   "execution_count": 11,
   "id": "b5a82dcf",
   "metadata": {},
   "outputs": [
    {
     "name": "stdout",
     "output_type": "stream",
     "text": [
      "Login\n",
      "Register\n",
      "Enroll\n",
      "Review\n"
     ]
    },
    {
     "data": {
      "text/plain": [
       "(None, None, None, None)"
      ]
     },
     "execution_count": 11,
     "metadata": {},
     "output_type": "execute_result"
    }
   ],
   "source": [
    "class User:\n",
    "    \n",
    "    def login(self):\n",
    "        print(\"Login\")\n",
    "    def register(self):\n",
    "        print(\"Register\")\n",
    "\n",
    "class Student(User):\n",
    "    \n",
    "    def enroll(self):\n",
    "        print(\"Enroll\")\n",
    "    def review(self):\n",
    "        print(\"Review\")\n",
    "        \n",
    "stu1 = Student()\n",
    "\n",
    "stu1.login(), stu1.register(), stu1.enroll(), stu1.review()"
   ]
  },
  {
   "cell_type": "markdown",
   "id": "76b1c810",
   "metadata": {},
   "source": [
    "#### inheriting constructor"
   ]
  },
  {
   "cell_type": "code",
   "execution_count": 12,
   "id": "f1583957",
   "metadata": {},
   "outputs": [
    {
     "name": "stdout",
     "output_type": "stream",
     "text": [
      "Inside phone constructor\n",
      "apple\n"
     ]
    }
   ],
   "source": [
    "class Phone:\n",
    "    def __init__(self, price, brand, camera):\n",
    "        print(\"Inside phone constructor\")\n",
    "        self.price = price\n",
    "        self.brand = brand\n",
    "        self.camera = camera\n",
    "        \n",
    "class SmartPhone(Phone):\n",
    "    pass\n",
    "\n",
    "s = SmartPhone(202220, \"apple\", 13)\n",
    "print(s.brand)"
   ]
  },
  {
   "cell_type": "code",
   "execution_count": 17,
   "id": "6c03d300",
   "metadata": {},
   "outputs": [
    {
     "name": "stdout",
     "output_type": "stream",
     "text": [
      "Phone price is  "
     ]
    },
    {
     "ename": "NameError",
     "evalue": "name '_Phone__price' is not defined",
     "output_type": "error",
     "traceback": [
      "\u001b[1;31m---------------------------------------------------------------------------\u001b[0m",
      "\u001b[1;31mNameError\u001b[0m                                 Traceback (most recent call last)",
      "\u001b[1;32m~\\AppData\\Local\\Temp/ipykernel_19576/863457923.py\u001b[0m in \u001b[0;36m<module>\u001b[1;34m\u001b[0m\n\u001b[0;32m     16\u001b[0m \u001b[1;33m\u001b[0m\u001b[0m\n\u001b[0;32m     17\u001b[0m \u001b[0mprint\u001b[0m\u001b[1;33m(\u001b[0m\u001b[1;34m\"Phone price is \"\u001b[0m\u001b[1;33m,\u001b[0m \u001b[0mend\u001b[0m \u001b[1;33m=\u001b[0m \u001b[1;34m' '\u001b[0m\u001b[1;33m)\u001b[0m\u001b[1;33m\u001b[0m\u001b[1;33m\u001b[0m\u001b[0m\n\u001b[1;32m---> 18\u001b[1;33m \u001b[0ms\u001b[0m\u001b[1;33m.\u001b[0m\u001b[0mget_price\u001b[0m\u001b[1;33m(\u001b[0m\u001b[1;33m)\u001b[0m\u001b[1;33m\u001b[0m\u001b[1;33m\u001b[0m\u001b[0m\n\u001b[0m",
      "\u001b[1;32m~\\AppData\\Local\\Temp/ipykernel_19576/863457923.py\u001b[0m in \u001b[0;36mget_price\u001b[1;34m(self)\u001b[0m\n\u001b[0;32m      4\u001b[0m         \u001b[0mself\u001b[0m\u001b[1;33m.\u001b[0m\u001b[0m__price\u001b[0m \u001b[1;33m=\u001b[0m \u001b[0mprice\u001b[0m\u001b[1;33m\u001b[0m\u001b[1;33m\u001b[0m\u001b[0m\n\u001b[0;32m      5\u001b[0m     \u001b[1;32mdef\u001b[0m \u001b[0mget_price\u001b[0m\u001b[1;33m(\u001b[0m\u001b[0mself\u001b[0m\u001b[1;33m)\u001b[0m\u001b[1;33m:\u001b[0m\u001b[1;33m\u001b[0m\u001b[1;33m\u001b[0m\u001b[0m\n\u001b[1;32m----> 6\u001b[1;33m         \u001b[1;32mreturn\u001b[0m \u001b[0m__price\u001b[0m\u001b[1;33m\u001b[0m\u001b[1;33m\u001b[0m\u001b[0m\n\u001b[0m\u001b[0;32m      7\u001b[0m \u001b[1;33m\u001b[0m\u001b[0m\n\u001b[0;32m      8\u001b[0m \u001b[1;32mclass\u001b[0m \u001b[0mSmartPhone\u001b[0m\u001b[1;33m(\u001b[0m\u001b[0mPhone\u001b[0m\u001b[1;33m)\u001b[0m\u001b[1;33m:\u001b[0m\u001b[1;33m\u001b[0m\u001b[1;33m\u001b[0m\u001b[0m\n",
      "\u001b[1;31mNameError\u001b[0m: name '_Phone__price' is not defined"
     ]
    }
   ],
   "source": [
    "#As phone constructor is not initialised bcz child has it's own constructor \n",
    "class Phone:\n",
    "    def __init__(self, price):\n",
    "        print(\"Inside phone constructor\")\n",
    "        self.__price = price\n",
    "    def get_price(self):\n",
    "        return self.__price\n",
    "        \n",
    "class SmartPhone(Phone):\n",
    "    \n",
    "    def __init__(self, brand, price):\n",
    "        self.__brand = brand\n",
    "    def get_brand(self):\n",
    "        return self.__brand\n",
    "\n",
    "s = SmartPhone( \"apple\", 13)\n",
    "\n",
    "print(\"Phone price is \", end = ' ')\n",
    "s.get_price()"
   ]
  },
  {
   "cell_type": "code",
   "execution_count": 19,
   "id": "994839d1",
   "metadata": {},
   "outputs": [
    {
     "name": "stdout",
     "output_type": "stream",
     "text": [
      "class A :  100\n"
     ]
    }
   ],
   "source": [
    "class A:\n",
    "    def __init__(self):\n",
    "        self.var1 = 100\n",
    "        \n",
    "    def display1(self, var1):\n",
    "        print('class A : ', self.var1)\n",
    "        \n",
    "class B(A):\n",
    "    def display2(self, var1):\n",
    "        print('class B : ', self.var1)\n",
    "        \n",
    "obj = B() #calling parent constructor\n",
    "obj.display1(200)"
   ]
  },
  {
   "cell_type": "markdown",
   "id": "e410083c",
   "metadata": {},
   "source": [
    "#### inheriting private var"
   ]
  },
  {
   "cell_type": "code",
   "execution_count": 13,
   "id": "190318a6",
   "metadata": {},
   "outputs": [
    {
     "name": "stdout",
     "output_type": "stream",
     "text": [
      "Inside phone constructor\n"
     ]
    },
    {
     "ename": "AttributeError",
     "evalue": "'SmartPhone' object has no attribute '__brand'",
     "output_type": "error",
     "traceback": [
      "\u001b[1;31m---------------------------------------------------------------------------\u001b[0m",
      "\u001b[1;31mAttributeError\u001b[0m                            Traceback (most recent call last)",
      "\u001b[1;32m~\\AppData\\Local\\Temp/ipykernel_19576/3668459658.py\u001b[0m in \u001b[0;36m<module>\u001b[1;34m\u001b[0m\n\u001b[0;32m     10\u001b[0m \u001b[1;33m\u001b[0m\u001b[0m\n\u001b[0;32m     11\u001b[0m \u001b[0ms\u001b[0m \u001b[1;33m=\u001b[0m \u001b[0mSmartPhone\u001b[0m\u001b[1;33m(\u001b[0m\u001b[1;36m202220\u001b[0m\u001b[1;33m,\u001b[0m \u001b[1;34m\"apple\"\u001b[0m\u001b[1;33m,\u001b[0m \u001b[1;36m13\u001b[0m\u001b[1;33m)\u001b[0m\u001b[1;33m\u001b[0m\u001b[1;33m\u001b[0m\u001b[0m\n\u001b[1;32m---> 12\u001b[1;33m \u001b[0mprint\u001b[0m\u001b[1;33m(\u001b[0m\u001b[0ms\u001b[0m\u001b[1;33m.\u001b[0m\u001b[0m__brand\u001b[0m\u001b[1;33m)\u001b[0m\u001b[1;33m\u001b[0m\u001b[1;33m\u001b[0m\u001b[0m\n\u001b[0m",
      "\u001b[1;31mAttributeError\u001b[0m: 'SmartPhone' object has no attribute '__brand'"
     ]
    }
   ],
   "source": [
    "class Phone:\n",
    "    def __init__(self, price, brand, camera):\n",
    "        print(\"Inside phone constructor\")\n",
    "        self.price = price\n",
    "        self.__brand = brand\n",
    "        self.camera = camera\n",
    "        \n",
    "class SmartPhone(Phone):\n",
    "    pass\n",
    "\n",
    "s = SmartPhone(202220, \"apple\", 13)\n",
    "print(s.__brand)"
   ]
  },
  {
   "cell_type": "code",
   "execution_count": 14,
   "id": "19ffc109",
   "metadata": {},
   "outputs": [
    {
     "name": "stdout",
     "output_type": "stream",
     "text": [
      "apple\n"
     ]
    }
   ],
   "source": [
    "print(s._Phone__brand)"
   ]
  },
  {
   "cell_type": "markdown",
   "id": "358f91bb",
   "metadata": {},
   "source": [
    "## Polymorphism\n",
    "\n",
    "### 1) method overriding"
   ]
  },
  {
   "cell_type": "code",
   "execution_count": 16,
   "id": "ffe8a4e3",
   "metadata": {},
   "outputs": [
    {
     "name": "stdout",
     "output_type": "stream",
     "text": [
      "Inside phone constructor\n",
      "buying a smartphone\n"
     ]
    }
   ],
   "source": [
    "class Phone:\n",
    "    def __init__(self, price, brand, camera):\n",
    "        print(\"Inside phone constructor\")\n",
    "        self.__price = price\n",
    "        self.brand = brand\n",
    "        self.camera = camera\n",
    "        \n",
    "    def buy(self):\n",
    "        print(\"buying a phone\")\n",
    "        \n",
    "class SmartPhone(Phone):\n",
    "    \n",
    "    #method overriding\n",
    "    def buy(self):\n",
    "        print(\"buying a smartphone\")\n",
    "\n",
    "s = SmartPhone(202220, \"apple\", 13)\n",
    "s.buy()"
   ]
  },
  {
   "cell_type": "markdown",
   "id": "0b9f031c",
   "metadata": {},
   "source": [
    "### 2) method overloading"
   ]
  },
  {
   "cell_type": "code",
   "execution_count": 6,
   "id": "cc070c63",
   "metadata": {},
   "outputs": [
    {
     "ename": "TypeError",
     "evalue": "area() missing 1 required positional argument: 'b'",
     "output_type": "error",
     "traceback": [
      "\u001b[1;31m---------------------------------------------------------------------------\u001b[0m",
      "\u001b[1;31mTypeError\u001b[0m                                 Traceback (most recent call last)",
      "\u001b[1;32m~\\AppData\\Local\\Temp/ipykernel_18828/986161087.py\u001b[0m in \u001b[0;36m<module>\u001b[1;34m\u001b[0m\n\u001b[0;32m      7\u001b[0m \u001b[1;33m\u001b[0m\u001b[0m\n\u001b[0;32m      8\u001b[0m \u001b[0mobj\u001b[0m \u001b[1;33m=\u001b[0m \u001b[0mGeometry\u001b[0m\u001b[1;33m(\u001b[0m\u001b[1;33m)\u001b[0m\u001b[1;33m\u001b[0m\u001b[1;33m\u001b[0m\u001b[0m\n\u001b[1;32m----> 9\u001b[1;33m \u001b[0mprint\u001b[0m\u001b[1;33m(\u001b[0m\u001b[0mobj\u001b[0m\u001b[1;33m.\u001b[0m\u001b[0marea\u001b[0m\u001b[1;33m(\u001b[0m\u001b[1;36m4\u001b[0m\u001b[1;33m)\u001b[0m\u001b[1;33m)\u001b[0m\u001b[1;33m\u001b[0m\u001b[1;33m\u001b[0m\u001b[0m\n\u001b[0m",
      "\u001b[1;31mTypeError\u001b[0m: area() missing 1 required positional argument: 'b'"
     ]
    }
   ],
   "source": [
    "class Geometry:\n",
    "    def area(self, radius):\n",
    "        return 3.14* radius * radius\n",
    "    \n",
    "    def area(self, l, b): #it is overriding that's why\n",
    "        return l*b\n",
    "    \n",
    "obj = Geometry()\n",
    "print(obj.area(4))"
   ]
  },
  {
   "cell_type": "markdown",
   "id": "816f8fbc",
   "metadata": {},
   "source": [
    "#### python doesn't support method overloading but ... jugad"
   ]
  },
  {
   "cell_type": "code",
   "execution_count": 10,
   "id": "d0023e27",
   "metadata": {},
   "outputs": [
    {
     "name": "stdout",
     "output_type": "stream",
     "text": [
      "Circle:  50.24\n",
      "Rect:  20\n"
     ]
    }
   ],
   "source": [
    "class Geometry:\n",
    "    def area(self, a, b=0):\n",
    "        if b==0:\n",
    "            print(\"Circle: \", 3.14* a * a)\n",
    "        else:\n",
    "            print(\"Rect: \", a*b)\n",
    "    \n",
    "obj = Geometry()\n",
    "obj.area(4, 0)\n",
    "obj.area(4, 5)"
   ]
  },
  {
   "cell_type": "markdown",
   "id": "5ab20de2",
   "metadata": {},
   "source": [
    "### 3) operator overloading : using magic methods achieved"
   ]
  },
  {
   "cell_type": "code",
   "execution_count": null,
   "id": "72433e40",
   "metadata": {},
   "outputs": [],
   "source": []
  },
  {
   "cell_type": "markdown",
   "id": "51cfd700",
   "metadata": {},
   "source": [
    "## super().parent_method_name , super().--init--(arguments)\n",
    "\n",
    "=> invoking parents method and constructor only in overriding method"
   ]
  },
  {
   "cell_type": "code",
   "execution_count": 20,
   "id": "865aa837",
   "metadata": {},
   "outputs": [
    {
     "name": "stdout",
     "output_type": "stream",
     "text": [
      "Inside phone constructor\n",
      "buying a smartphone\n",
      "buying a phone\n"
     ]
    }
   ],
   "source": [
    "class Phone:\n",
    "    def __init__(self, price, brand, camera):\n",
    "        print(\"Inside phone constructor\")\n",
    "        self.__price = price\n",
    "        self.brand = brand\n",
    "        self.camera = camera\n",
    "        \n",
    "    def buy(self):\n",
    "        print(\"buying a phone\")\n",
    "        \n",
    "class SmartPhone(Phone):\n",
    "    \n",
    "    #method overriding\n",
    "    def buy(self):\n",
    "        print(\"buying a smartphone\")\n",
    "        super().buy()\n",
    "    \n",
    "s = SmartPhone(202220, \"apple\", 13)\n",
    "s.buy()"
   ]
  },
  {
   "cell_type": "code",
   "execution_count": 22,
   "id": "095ac623",
   "metadata": {},
   "outputs": [
    {
     "name": "stdout",
     "output_type": "stream",
     "text": [
      "Inside SmartPhonde\n",
      "Inside phone constructor\n",
      "Inside SmartPhonde\n"
     ]
    },
    {
     "data": {
      "text/plain": [
       "('Android', 'samsung')"
      ]
     },
     "execution_count": 22,
     "metadata": {},
     "output_type": "execute_result"
    }
   ],
   "source": [
    "class Phone:\n",
    "    def __init__(self, price, brand, camera):\n",
    "        print(\"Inside phone constructor\")\n",
    "        self.__price = price\n",
    "        self.brand = brand\n",
    "        self.camera = camera\n",
    "        \n",
    "class SmartPhone(Phone):\n",
    "    \n",
    "    def __init__(self, price, brand, camera, os, ram):\n",
    "        print(\"Inside SmartPhonde\")\n",
    "        super().__init__(price, brand, camera)\n",
    "        print(\"Inside SmartPhonde\")\n",
    "        self.os = os\n",
    "        self.ram = ram\n",
    "      \n",
    "s = SmartPhone(15000, \"samsung\", 13, \"Android\", 8)\n",
    "s.os, s.brand"
   ]
  },
  {
   "cell_type": "code",
   "execution_count": 25,
   "id": "ebaec881",
   "metadata": {},
   "outputs": [
    {
     "name": "stdout",
     "output_type": "stream",
     "text": [
      "Inside SmartPhonde\n",
      "Inside phone constructor\n"
     ]
    },
    {
     "data": {
      "text/plain": [
       "('Android', 'samsung')"
      ]
     },
     "execution_count": 25,
     "metadata": {},
     "output_type": "execute_result"
    }
   ],
   "source": [
    "class Phone:\n",
    "    def __init__(self, price, brand, camera):\n",
    "        print(\"Inside phone constructor\")\n",
    "        self.__price = price\n",
    "        self.brand = brand\n",
    "        self.camera = camera\n",
    "        \n",
    "class SmartPhone(Phone):\n",
    "    \n",
    "    def __init__(self, price, brand, camera, os, ram):\n",
    "        print(\"Inside SmartPhonde\")\n",
    "        self.os = os\n",
    "        self.ram = ram\n",
    "        super().__init__(price, brand, camera)\n",
    "      \n",
    "s = SmartPhone(15000, \"samsung\", 13, \"Android\", 8)\n",
    "s.os, s.brand"
   ]
  },
  {
   "cell_type": "code",
   "execution_count": 26,
   "id": "73e97ebb",
   "metadata": {},
   "outputs": [
    {
     "name": "stdout",
     "output_type": "stream",
     "text": [
      "Parent 100\n",
      "Chile 10\n"
     ]
    }
   ],
   "source": [
    "class Parent:\n",
    "    def __init__(self):\n",
    "        self.__num = 100\n",
    "        \n",
    "    def show(self):\n",
    "        print(\"Parent\", self.__num)\n",
    "        \n",
    "class Child(Parent):\n",
    "    def __init__(self):\n",
    "        super().__init__()\n",
    "        self.__var = 10\n",
    "        \n",
    "    def show(self):\n",
    "        print(\"Child\", self.__var)\n",
    "        \n",
    "dad = Parent()\n",
    "dad.show()\n",
    "son = Child()\n",
    "son.show()"
   ]
  },
  {
   "cell_type": "code",
   "execution_count": 29,
   "id": "527dbe1f",
   "metadata": {},
   "outputs": [
    {
     "name": "stdout",
     "output_type": "stream",
     "text": [
      "Parent 100\n",
      "Child 10\n"
     ]
    }
   ],
   "source": [
    "#invoking parent attr inside child class\n",
    "class Parent:\n",
    "    def __init__(self):\n",
    "        self.num = 100\n",
    "        \n",
    "class Child(Parent):\n",
    "    def __init__(self):\n",
    "        super().__init__()\n",
    "        self.__var = 10\n",
    "        \n",
    "    def show(self):\n",
    "        print(\"Parent\", self.num)\n",
    "        print(\"Child\", self.__var)\n",
    "        \n",
    "son = Child()\n",
    "son.show()"
   ]
  },
  {
   "cell_type": "code",
   "execution_count": 31,
   "id": "641145ea",
   "metadata": {
    "scrolled": true
   },
   "outputs": [
    {
     "ename": "AttributeError",
     "evalue": "'Child' object has no attribute '_Child__num'",
     "output_type": "error",
     "traceback": [
      "\u001b[1;31m---------------------------------------------------------------------------\u001b[0m",
      "\u001b[1;31mAttributeError\u001b[0m                            Traceback (most recent call last)",
      "\u001b[1;32m~\\AppData\\Local\\Temp/ipykernel_19576/1096984296.py\u001b[0m in \u001b[0;36m<module>\u001b[1;34m\u001b[0m\n\u001b[0;32m     14\u001b[0m \u001b[1;33m\u001b[0m\u001b[0m\n\u001b[0;32m     15\u001b[0m \u001b[0mson\u001b[0m \u001b[1;33m=\u001b[0m \u001b[0mChild\u001b[0m\u001b[1;33m(\u001b[0m\u001b[1;33m)\u001b[0m\u001b[1;33m\u001b[0m\u001b[1;33m\u001b[0m\u001b[0m\n\u001b[1;32m---> 16\u001b[1;33m \u001b[0mson\u001b[0m\u001b[1;33m.\u001b[0m\u001b[0mshow\u001b[0m\u001b[1;33m(\u001b[0m\u001b[1;33m)\u001b[0m\u001b[1;33m\u001b[0m\u001b[1;33m\u001b[0m\u001b[0m\n\u001b[0m",
      "\u001b[1;32m~\\AppData\\Local\\Temp/ipykernel_19576/1096984296.py\u001b[0m in \u001b[0;36mshow\u001b[1;34m(self)\u001b[0m\n\u001b[0;32m     10\u001b[0m \u001b[1;33m\u001b[0m\u001b[0m\n\u001b[0;32m     11\u001b[0m     \u001b[1;32mdef\u001b[0m \u001b[0mshow\u001b[0m\u001b[1;33m(\u001b[0m\u001b[0mself\u001b[0m\u001b[1;33m)\u001b[0m\u001b[1;33m:\u001b[0m\u001b[1;33m\u001b[0m\u001b[1;33m\u001b[0m\u001b[0m\n\u001b[1;32m---> 12\u001b[1;33m         \u001b[0mprint\u001b[0m\u001b[1;33m(\u001b[0m\u001b[1;34m\"Parent\"\u001b[0m\u001b[1;33m,\u001b[0m \u001b[0mself\u001b[0m\u001b[1;33m.\u001b[0m\u001b[0m__num\u001b[0m\u001b[1;33m)\u001b[0m \u001b[1;31m#print(\"Parent\", self._Parent__num) will work\u001b[0m\u001b[1;33m\u001b[0m\u001b[1;33m\u001b[0m\u001b[0m\n\u001b[0m\u001b[0;32m     13\u001b[0m         \u001b[0mprint\u001b[0m\u001b[1;33m(\u001b[0m\u001b[1;34m\"Child\"\u001b[0m\u001b[1;33m,\u001b[0m \u001b[0mself\u001b[0m\u001b[1;33m.\u001b[0m\u001b[0m__var\u001b[0m\u001b[1;33m)\u001b[0m\u001b[1;33m\u001b[0m\u001b[1;33m\u001b[0m\u001b[0m\n\u001b[0;32m     14\u001b[0m \u001b[1;33m\u001b[0m\u001b[0m\n",
      "\u001b[1;31mAttributeError\u001b[0m: 'Child' object has no attribute '_Child__num'"
     ]
    }
   ],
   "source": [
    "#invoking parent attr inside child class\n",
    "class Parent:\n",
    "    def __init__(self):\n",
    "        self.__num = 100\n",
    "        \n",
    "class Child(Parent):\n",
    "    def __init__(self):\n",
    "        super().__init__()\n",
    "        self.__var = 10\n",
    "        \n",
    "    def show(self):\n",
    "        print(\"Parent\", self.__num) #print(\"Parent\", self._Parent__num) will work\n",
    "        print(\"Child\", self.__var)\n",
    "        \n",
    "son = Child()\n",
    "son.show()"
   ]
  },
  {
   "cell_type": "markdown",
   "id": "617296fd",
   "metadata": {},
   "source": [
    "### multiple inheritance\n",
    "\n",
    "MRO = method resolution order"
   ]
  },
  {
   "cell_type": "code",
   "execution_count": 5,
   "id": "cf6d02be",
   "metadata": {},
   "outputs": [
    {
     "name": "stdout",
     "output_type": "stream",
     "text": [
      "Product buy method\n"
     ]
    },
    {
     "ename": "AttributeError",
     "evalue": "'SmartPhone' object has no attribute 'price'",
     "output_type": "error",
     "traceback": [
      "\u001b[1;31m---------------------------------------------------------------------------\u001b[0m",
      "\u001b[1;31mAttributeError\u001b[0m                            Traceback (most recent call last)",
      "\u001b[1;32m~\\AppData\\Local\\Temp/ipykernel_18828/3165619243.py\u001b[0m in \u001b[0;36m<module>\u001b[1;34m\u001b[0m\n\u001b[0;32m     17\u001b[0m \u001b[0ms\u001b[0m \u001b[1;33m=\u001b[0m \u001b[0mSmartPhone\u001b[0m\u001b[1;33m(\u001b[0m\u001b[1;36m15000\u001b[0m\u001b[1;33m,\u001b[0m \u001b[1;34m\"samsung\"\u001b[0m\u001b[1;33m,\u001b[0m \u001b[1;36m13\u001b[0m\u001b[1;33m)\u001b[0m\u001b[1;33m\u001b[0m\u001b[1;33m\u001b[0m\u001b[0m\n\u001b[0;32m     18\u001b[0m \u001b[0ms\u001b[0m\u001b[1;33m.\u001b[0m\u001b[0mbuy\u001b[0m\u001b[1;33m(\u001b[0m\u001b[1;33m)\u001b[0m\u001b[1;33m\u001b[0m\u001b[1;33m\u001b[0m\u001b[0m\n\u001b[1;32m---> 19\u001b[1;33m \u001b[0ms\u001b[0m\u001b[1;33m.\u001b[0m\u001b[0mprice\u001b[0m\u001b[1;33m\u001b[0m\u001b[1;33m\u001b[0m\u001b[0m\n\u001b[0m",
      "\u001b[1;31mAttributeError\u001b[0m: 'SmartPhone' object has no attribute 'price'"
     ]
    }
   ],
   "source": [
    "class Phone:\n",
    "    def __init__(self, price, brand, camera):\n",
    "        self.__price = price\n",
    "        self.brand = brand\n",
    "        self.camera = camera\n",
    "        \n",
    "    def buy(self):\n",
    "        print(\"Buying a phone\")\n",
    "        \n",
    "class Product:\n",
    "    def buy(self):\n",
    "        print(\"Product buy method\")\n",
    "        \n",
    "class SmartPhone(Product, Phone): #product first inherited\n",
    "    pass\n",
    "      \n",
    "s = SmartPhone(15000, \"samsung\", 13)\n",
    "s.buy()\n",
    "s.price"
   ]
  },
  {
   "cell_type": "code",
   "execution_count": 2,
   "id": "769b036d",
   "metadata": {},
   "outputs": [
    {
     "name": "stdout",
     "output_type": "stream",
     "text": [
      "70\n"
     ]
    }
   ],
   "source": [
    "class A:\n",
    "    def m1(self):\n",
    "        return 20\n",
    "    \n",
    "class B(A):\n",
    "    def m1(self):\n",
    "        val = super().m1() + 30\n",
    "        return val\n",
    "    \n",
    "class C(B):\n",
    "    def m1(self):\n",
    "        #val = self.m1()+20  Recursion error: recursion depth exceeded\n",
    "        val = super().m1()+20\n",
    "        return val\n",
    "    \n",
    "obj = C()\n",
    "print(obj.m1())"
   ]
  },
  {
   "cell_type": "markdown",
   "id": "787789a9",
   "metadata": {},
   "source": [
    "## Abstraction: inherit from ABC class and atleast one abstract class"
   ]
  },
  {
   "cell_type": "code",
   "execution_count": 1,
   "id": "f20d5e1c",
   "metadata": {},
   "outputs": [],
   "source": [
    "from abc import ABC, abstractmethod\n",
    "class BankApp(ABC):\n",
    "    def database(self):\n",
    "        print(\"Connected to database\")\n",
    "    @abstractmethod\n",
    "    def security(self):\n",
    "        pass\n",
    "    "
   ]
  },
  {
   "cell_type": "code",
   "execution_count": 2,
   "id": "c5c1f192",
   "metadata": {},
   "outputs": [
    {
     "ename": "TypeError",
     "evalue": "Can't instantiate abstract class BankApp with abstract method security",
     "output_type": "error",
     "traceback": [
      "\u001b[1;31m---------------------------------------------------------------------------\u001b[0m",
      "\u001b[1;31mTypeError\u001b[0m                                 Traceback (most recent call last)",
      "\u001b[1;32m~\\AppData\\Local\\Temp/ipykernel_14216/1177365575.py\u001b[0m in \u001b[0;36m<module>\u001b[1;34m\u001b[0m\n\u001b[1;32m----> 1\u001b[1;33m \u001b[0mobj\u001b[0m \u001b[1;33m=\u001b[0m \u001b[0mBankApp\u001b[0m\u001b[1;33m(\u001b[0m\u001b[1;33m)\u001b[0m\u001b[1;33m\u001b[0m\u001b[1;33m\u001b[0m\u001b[0m\n\u001b[0m",
      "\u001b[1;31mTypeError\u001b[0m: Can't instantiate abstract class BankApp with abstract method security"
     ]
    }
   ],
   "source": [
    "obj = BankApp()"
   ]
  },
  {
   "cell_type": "code",
   "execution_count": 4,
   "id": "c0b2e526",
   "metadata": {},
   "outputs": [
    {
     "ename": "TypeError",
     "evalue": "Can't instantiate abstract class MobileApp with abstract method security",
     "output_type": "error",
     "traceback": [
      "\u001b[1;31m---------------------------------------------------------------------------\u001b[0m",
      "\u001b[1;31mTypeError\u001b[0m                                 Traceback (most recent call last)",
      "\u001b[1;32m~\\AppData\\Local\\Temp/ipykernel_14216/93824014.py\u001b[0m in \u001b[0;36m<module>\u001b[1;34m\u001b[0m\n\u001b[0;32m      3\u001b[0m         \u001b[0mprint\u001b[0m\u001b[1;33m(\u001b[0m\u001b[1;34m\"mobile login successfull\"\u001b[0m\u001b[1;33m)\u001b[0m\u001b[1;33m\u001b[0m\u001b[1;33m\u001b[0m\u001b[0m\n\u001b[0;32m      4\u001b[0m \u001b[1;33m\u001b[0m\u001b[0m\n\u001b[1;32m----> 5\u001b[1;33m \u001b[0mmpb\u001b[0m \u001b[1;33m=\u001b[0m \u001b[0mMobileApp\u001b[0m\u001b[1;33m(\u001b[0m\u001b[1;33m)\u001b[0m\u001b[1;33m\u001b[0m\u001b[1;33m\u001b[0m\u001b[0m\n\u001b[0m",
      "\u001b[1;31mTypeError\u001b[0m: Can't instantiate abstract class MobileApp with abstract method security"
     ]
    }
   ],
   "source": [
    "class MobileApp(BankApp):\n",
    "    def mobile_login(self):\n",
    "        print(\"mobile login successfull\")\n",
    "        \n",
    "mpb = MobileApp()"
   ]
  },
  {
   "cell_type": "code",
   "execution_count": 7,
   "id": "855eab9e",
   "metadata": {},
   "outputs": [
    {
     "name": "stdout",
     "output_type": "stream",
     "text": [
      "Connected to database\n",
      "mobile security\n",
      "mobile login successfull\n"
     ]
    }
   ],
   "source": [
    "class MobileApp(BankApp):\n",
    "    def mobile_login(self):\n",
    "        print(\"mobile login successfull\")\n",
    "        \n",
    "    def security(self):\n",
    "        print(\"mobile security\")\n",
    "        \n",
    "mob = MobileApp()\n",
    "mob.database()\n",
    "mob.security()\n",
    "mob.mobile_login()"
   ]
  },
  {
   "cell_type": "code",
   "execution_count": 10,
   "id": "7c3e0a97",
   "metadata": {},
   "outputs": [
    {
     "ename": "TypeError",
     "evalue": "Can't instantiate abstract class MobileApp with abstract method display",
     "output_type": "error",
     "traceback": [
      "\u001b[1;31m---------------------------------------------------------------------------\u001b[0m",
      "\u001b[1;31mTypeError\u001b[0m                                 Traceback (most recent call last)",
      "\u001b[1;32m~\\AppData\\Local\\Temp/ipykernel_14216/2778363371.py\u001b[0m in \u001b[0;36m<module>\u001b[1;34m\u001b[0m\n\u001b[0;32m     17\u001b[0m         \u001b[0mprint\u001b[0m\u001b[1;33m(\u001b[0m\u001b[1;34m\"mobile security\"\u001b[0m\u001b[1;33m)\u001b[0m\u001b[1;33m\u001b[0m\u001b[1;33m\u001b[0m\u001b[0m\n\u001b[0;32m     18\u001b[0m \u001b[1;33m\u001b[0m\u001b[0m\n\u001b[1;32m---> 19\u001b[1;33m \u001b[0mmob\u001b[0m \u001b[1;33m=\u001b[0m \u001b[0mMobileApp\u001b[0m\u001b[1;33m(\u001b[0m\u001b[1;33m)\u001b[0m\u001b[1;33m\u001b[0m\u001b[1;33m\u001b[0m\u001b[0m\n\u001b[0m",
      "\u001b[1;31mTypeError\u001b[0m: Can't instantiate abstract class MobileApp with abstract method display"
     ]
    }
   ],
   "source": [
    "from abc import ABC, abstractmethod\n",
    "class BankApp(ABC):\n",
    "    def database(self):\n",
    "        print(\"Connected to database\")\n",
    "    @abstractmethod\n",
    "    def security(self):\n",
    "        pass\n",
    "    @abstractmethod\n",
    "    def display(self):\n",
    "        pass\n",
    "    \n",
    "class MobileApp(BankApp):\n",
    "    def mobile_login(self):\n",
    "        print(\"mobile login successfull\")\n",
    "        \n",
    "    def security(self):\n",
    "        print(\"mobile security\")\n",
    "        \n",
    "mob = MobileApp()"
   ]
  },
  {
   "cell_type": "code",
   "execution_count": 11,
   "id": "78a01dd2",
   "metadata": {},
   "outputs": [
    {
     "name": "stdout",
     "output_type": "stream",
     "text": [
      "mobile login successfull\n"
     ]
    }
   ],
   "source": [
    "class MobileApp(BankApp):\n",
    "    def mobile_login(self):\n",
    "        print(\"mobile login successfull\")\n",
    "        \n",
    "    def security(self):\n",
    "        print(\"mobile security\")\n",
    "        \n",
    "    def display(self):\n",
    "        print(\"display\")\n",
    "    \n",
    "mob = MobileApp()\n",
    "mob.mobile_login()"
   ]
  },
  {
   "cell_type": "code",
   "execution_count": null,
   "id": "409f919a",
   "metadata": {},
   "outputs": [],
   "source": []
  }
 ],
 "metadata": {
  "kernelspec": {
   "display_name": "Python 3 (ipykernel)",
   "language": "python",
   "name": "python3"
  },
  "language_info": {
   "codemirror_mode": {
    "name": "ipython",
    "version": 3
   },
   "file_extension": ".py",
   "mimetype": "text/x-python",
   "name": "python",
   "nbconvert_exporter": "python",
   "pygments_lexer": "ipython3",
   "version": "3.9.7"
  }
 },
 "nbformat": 4,
 "nbformat_minor": 5
}
