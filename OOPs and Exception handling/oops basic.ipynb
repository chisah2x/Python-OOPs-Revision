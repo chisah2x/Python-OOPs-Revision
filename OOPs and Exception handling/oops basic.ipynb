{
 "cells": [
  {
   "cell_type": "markdown",
   "id": "a5a0d8e4",
   "metadata": {},
   "source": [
    "## Reference Variable"
   ]
  },
  {
   "cell_type": "code",
   "execution_count": 6,
   "id": "71073475",
   "metadata": {},
   "outputs": [],
   "source": [
    "class Customer:\n",
    "    \n",
    "    def __init__(self, name, gender):\n",
    "        self.name = name\n",
    "        self.gender = gender\n",
    "\n",
    "def greet(customer):\n",
    "    if customer.gender == \"Male\":\n",
    "        print(\"Hello, \", customer.name, 'sir')\n",
    "    else:\n",
    "        print(\"Hello!,\", customer.name, \"ma'am\")\n",
    "        "
   ]
  },
  {
   "cell_type": "code",
   "execution_count": 5,
   "id": "97e38520",
   "metadata": {},
   "outputs": [
    {
     "data": {
      "text/plain": [
       "<__main__.Customer at 0x114f59e93d0>"
      ]
     },
     "execution_count": 5,
     "metadata": {},
     "output_type": "execute_result"
    }
   ],
   "source": [
    "Customer(\"Chirag\", \"Male\")"
   ]
  },
  {
   "cell_type": "markdown",
   "id": "2605265d",
   "metadata": {},
   "source": [
    "### As object is not store in any variable so it can't use further.\n",
    "\n",
    "Everything in python is a object.\n",
    "\n",
    "methods are function written inside class and can be accessed by only the class object.\n",
    "\n",
    "function written outside class.\n",
    "\n",
    "ex. l = list() or [] -> object literals,  len(l) -> len isfunc, l.append(l) -> append is method"
   ]
  },
  {
   "cell_type": "code",
   "execution_count": 7,
   "id": "5eb81c23",
   "metadata": {},
   "outputs": [
    {
     "name": "stdout",
     "output_type": "stream",
     "text": [
      "Hello,  Chirag sir\n"
     ]
    }
   ],
   "source": [
    "cust = Customer(\"Chirag\", \"Male\")  #here cust is variable which is storing reference of object => cust is refernce var\n",
    "greet(cust)"
   ]
  },
  {
   "cell_type": "markdown",
   "id": "b5334e7f",
   "metadata": {},
   "source": [
    "## pass by reference\n",
    "\n",
    "class objects are mutable like list, dict\n",
    "\n",
    "if you will send mutable in function then changes will be reflected in original but send immutable then changes will not reflected in original "
   ]
  },
  {
   "cell_type": "code",
   "execution_count": 12,
   "id": "fd9d7d88",
   "metadata": {},
   "outputs": [
    {
     "name": "stdout",
     "output_type": "stream",
     "text": [
      "1189531783952\n",
      "1189531783952\n",
      "1189531783952\n",
      "gf\n"
     ]
    }
   ],
   "source": [
    "class Customer:\n",
    "    \n",
    "    def __init__(self, name):\n",
    "        self.name = name\n",
    "\n",
    "def greet(customer):\n",
    "    print(id(customer)) #2\n",
    "    customer.name = \"gf\"\n",
    "    print(id(customer)) #3\n",
    "\n",
    "cust = Customer(\"Chirag\")\n",
    "print(id(cust))  #1\n",
    "\n",
    "greet(cust)\n",
    "print(cust.name)"
   ]
  },
  {
   "cell_type": "markdown",
   "id": "b1b31872",
   "metadata": {},
   "source": [
    "### list mutable"
   ]
  },
  {
   "cell_type": "code",
   "execution_count": 14,
   "id": "6298856c",
   "metadata": {},
   "outputs": [
    {
     "name": "stdout",
     "output_type": "stream",
     "text": [
      "1189530993728\n",
      "[1, 2, 3, 4]\n",
      "1189530993728\n",
      "1189530993728\n",
      "[1, 2, 3, 4, 5]\n"
     ]
    }
   ],
   "source": [
    "def change(li):\n",
    "    print(id(li))\n",
    "    li.append(5)\n",
    "    print(id(li))\n",
    "    \n",
    "l1 = [1,2,3,4]\n",
    "print(id(l1))\n",
    "print(l1)\n",
    "change(l1)  #don't send list reference send copy\n",
    "print(l1)"
   ]
  },
  {
   "cell_type": "code",
   "execution_count": 17,
   "id": "31173145",
   "metadata": {},
   "outputs": [
    {
     "name": "stdout",
     "output_type": "stream",
     "text": [
      "1189531756032\n",
      "[1, 2, 3, 4]\n",
      "1189531775680\n",
      "[1, 2, 3, 4, 5]\n",
      "1189531775680\n",
      "[1, 2, 3, 4]\n"
     ]
    }
   ],
   "source": [
    "def change(li):\n",
    "    print(id(li))\n",
    "    li.append(5)\n",
    "    print(li)\n",
    "    print(id(li))\n",
    "    \n",
    "l1 = [1,2,3,4]\n",
    "print(id(l1))\n",
    "print(l1)\n",
    "change(l1[:])  #sending clone of list\n",
    "print(l1)"
   ]
  },
  {
   "cell_type": "markdown",
   "id": "1798c07a",
   "metadata": {},
   "source": [
    "### tuple - immutable"
   ]
  },
  {
   "cell_type": "code",
   "execution_count": 21,
   "id": "1eedfa4b",
   "metadata": {},
   "outputs": [
    {
     "name": "stdout",
     "output_type": "stream",
     "text": [
      "1189532566848\n",
      "(1, 2, 3, 4)\n",
      "1189532566848\n",
      "(1, 2, 3, 4, 5, 6)\n",
      "1189527559040\n",
      "(1, 2, 3, 4)\n",
      "1189532566848\n"
     ]
    }
   ],
   "source": [
    "def change(li):\n",
    "    print(id(li)) #2 same tuple received but after + operation, address changed\n",
    "    li = li + (5,6)\n",
    "    print(li)\n",
    "    print(id(li)) #3 id changed\n",
    "    \n",
    "l1 = (1,2,3,4)\n",
    "print(id(l1)) #1\n",
    "print(l1)\n",
    "change(l1)  \n",
    "print(l1)\n",
    "print(id(l1)) #4"
   ]
  },
  {
   "cell_type": "markdown",
   "id": "7c115b77",
   "metadata": {},
   "source": [
    "### collection of objects"
   ]
  },
  {
   "cell_type": "code",
   "execution_count": 23,
   "id": "46fd4c0e",
   "metadata": {},
   "outputs": [
    {
     "name": "stdout",
     "output_type": "stream",
     "text": [
      "<__main__.Customer object at 0x00000114F59E9D90>\n",
      "<__main__.Customer object at 0x00000114F59E9160>\n",
      "<__main__.Customer object at 0x00000114F59E9C70>\n",
      "chirag 25\n",
      "myself 21\n",
      "me 26\n",
      "Hi, I am chirag and I am 25\n",
      "None\n",
      "Hi, I am myself and I am 21\n",
      "None\n",
      "Hi, I am me and I am 26\n",
      "None\n"
     ]
    }
   ],
   "source": [
    "class Customer:\n",
    "    \n",
    "    def __init__(self, name, age):\n",
    "        self.name = name\n",
    "        self.age = age\n",
    "        \n",
    "    def intro(self):\n",
    "        print(\"Hi, I am\", self.name, \"and I am\", self.age)\n",
    "        \n",
    "c1 = Customer(\"chirag\", 25)\n",
    "c2 = Customer(\"myself\", 21)\n",
    "c3 = Customer(\"me\", 26)\n",
    "\n",
    "L = [c1, c2, c3]\n",
    "for i in L:\n",
    "    print(i)\n",
    "    \n",
    "for i in L:\n",
    "    print(i.name, i.age)\n",
    "    \n",
    "for i in L:\n",
    "    print(i.intro())"
   ]
  },
  {
   "cell_type": "markdown",
   "id": "977d7cb5",
   "metadata": {},
   "source": [
    "## static/class variable and methods\n",
    "\n",
    "self is object reference"
   ]
  },
  {
   "cell_type": "code",
   "execution_count": 31,
   "id": "1c4aa942",
   "metadata": {},
   "outputs": [],
   "source": [
    "class Atm:\n",
    "    \n",
    "    #static/class var\n",
    "    counter = 1\n",
    "    \n",
    "    def __init__(self):\n",
    "        #instance var\n",
    "        self.__pin = \"\"   #python convert it into _Atm__pin, _Atm__balance\n",
    "        self.__balance = 0\n",
    "        \n",
    "        self.sno = Atm.counter\n",
    "        Atm.counter = Atm.counter+1\n",
    "        "
   ]
  },
  {
   "cell_type": "code",
   "execution_count": 32,
   "id": "dd9a992f",
   "metadata": {},
   "outputs": [],
   "source": [
    "c1 = Atm()\n",
    "c2 = Atm()\n",
    "c3 = Atm()"
   ]
  },
  {
   "cell_type": "code",
   "execution_count": 33,
   "id": "f430a58a",
   "metadata": {},
   "outputs": [
    {
     "data": {
      "text/plain": [
       "(4, 4, 4, 4)"
      ]
     },
     "execution_count": 33,
     "metadata": {},
     "output_type": "execute_result"
    }
   ],
   "source": [
    "c1.counter, c2.counter, c3.counter, Atm.counter"
   ]
  },
  {
   "cell_type": "code",
   "execution_count": 34,
   "id": "15394924",
   "metadata": {},
   "outputs": [
    {
     "data": {
      "text/plain": [
       "(1, 2, 3)"
      ]
     },
     "execution_count": 34,
     "metadata": {},
     "output_type": "execute_result"
    }
   ],
   "source": [
    "c1.sno, c2.sno, c3.sno"
   ]
  },
  {
   "cell_type": "code",
   "execution_count": 35,
   "id": "087eebc9",
   "metadata": {},
   "outputs": [],
   "source": [
    "class Atm:\n",
    "    \n",
    "    #static/class var\n",
    "    __counter = 1 \n",
    "    \n",
    "    def __init__(self):\n",
    "        #instance var\n",
    "        self.__pin = \"\"   #python convert it into _Atm__pin, _Atm__balance\n",
    "        self.__balance = 0\n",
    "        \n",
    "        self.sno = Atm.__counter\n",
    "        Atm.__counter = Atm.__counter+1\n",
    "        \n",
    "    @staticmethod\n",
    "    def get_counter():\n",
    "        return Atm.__counter\n",
    "    \n",
    "    @staticmethod\n",
    "    def set_counter(new):\n",
    "        if type(new) == int:\n",
    "            Atm.__counter = new\n",
    "        else:\n",
    "            print(\"Not allowed\")"
   ]
  },
  {
   "cell_type": "code",
   "execution_count": 37,
   "id": "7e6af84f",
   "metadata": {},
   "outputs": [
    {
     "data": {
      "text/plain": [
       "1"
      ]
     },
     "execution_count": 37,
     "metadata": {},
     "output_type": "execute_result"
    }
   ],
   "source": [
    "Atm.get_counter()"
   ]
  },
  {
   "cell_type": "code",
   "execution_count": 38,
   "id": "4c47a2f0",
   "metadata": {},
   "outputs": [
    {
     "name": "stdout",
     "output_type": "stream",
     "text": [
      "Not allowed\n"
     ]
    }
   ],
   "source": [
    "Atm.set_counter(\"dskj\")"
   ]
  },
  {
   "cell_type": "code",
   "execution_count": 39,
   "id": "14f88a92",
   "metadata": {},
   "outputs": [
    {
     "data": {
      "text/plain": [
       "5"
      ]
     },
     "execution_count": 39,
     "metadata": {},
     "output_type": "execute_result"
    }
   ],
   "source": [
    "Atm.set_counter(5)\n",
    "Atm.get_counter()"
   ]
  },
  {
   "cell_type": "code",
   "execution_count": null,
   "id": "32ed7578",
   "metadata": {},
   "outputs": [],
   "source": []
  },
  {
   "cell_type": "code",
   "execution_count": null,
   "id": "8e74a865",
   "metadata": {},
   "outputs": [],
   "source": []
  }
 ],
 "metadata": {
  "kernelspec": {
   "display_name": "Python 3 (ipykernel)",
   "language": "python",
   "name": "python3"
  },
  "language_info": {
   "codemirror_mode": {
    "name": "ipython",
    "version": 3
   },
   "file_extension": ".py",
   "mimetype": "text/x-python",
   "name": "python",
   "nbconvert_exporter": "python",
   "pygments_lexer": "ipython3",
   "version": "3.9.7"
  }
 },
 "nbformat": 4,
 "nbformat_minor": 5
}
