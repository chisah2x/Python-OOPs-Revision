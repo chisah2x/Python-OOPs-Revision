{
 "cells": [
  {
   "cell_type": "code",
   "execution_count": 9,
   "id": "a0fa059b",
   "metadata": {},
   "outputs": [],
   "source": [
    "class Atm:\n",
    "\n",
    "    def __init__(self):\n",
    "        self.__pin = \"\"   #python convert it into _Atm__pin, _Atm__balance\n",
    "        self.__balance = 0\n",
    "        self.__menu()\n",
    "\n",
    "    def __menu(self):\n",
    "        user_input = input(\"\"\"\n",
    "        Hello, how would you like to proceed?\n",
    "        1. Enter 1 to create pin\n",
    "        2. Enter 2 to deposit\n",
    "        3. Enter 3 to withdraw\n",
    "        4. Enter 4 to check balance\n",
    "        5. Enter 4 to exit\n",
    "        \"\"\")\n",
    "\n",
    "        if user_input == \"1\":\n",
    "            self.create_pin()\n",
    "        elif user_input == \"2\":\n",
    "            self.deposit()\n",
    "        elif user_input == \"3\":\n",
    "            self.withdraw()\n",
    "        elif user_input == \"4\":\n",
    "            self.check_balance()\n",
    "        else:\n",
    "            print(\"Bye, thank you for using our services\")\n",
    "\n",
    "    def create_pin(self):\n",
    "        self.__pin = input(\"Enter your pin and remember it : \")\n",
    "        print(\"Pin set successfully\")\n",
    "\n",
    "    def deposit(self):\n",
    "        temp = input(\"Enter your pin : \")\n",
    "        if temp == self.__pin:\n",
    "            amount = int(input(\"Enter the amount : \"))\n",
    "            self.__balance = self.__balance + amount\n",
    "            print(amount, \" Deposit successful\")\n",
    "        else:\n",
    "            print(\"Invalid pin\")\n",
    "\n",
    "    def withdraw(self):\n",
    "        temp = input(\"Enter your pin : \")\n",
    "        if temp == self.__pin:\n",
    "            amount = int(input(\"Enter the amount : \"))\n",
    "            if amount <= self.__balance:\n",
    "                self.__balance = self.__balance - amount\n",
    "                print(amount, \" Withdraw successful\")\n",
    "            else:\n",
    "                print(\"Insufficient balance\")\n",
    "        else:\n",
    "            print(\"Invalid pin\")\n",
    "    \n",
    "    def check_balance(self):\n",
    "        temp = input(\"Enter your pin : \")\n",
    "        if temp == self.__pin:\n",
    "            \n",
    "            print(self.__balance)\n",
    "        else:\n",
    "            print(\"Invalid pin\")"
   ]
  },
  {
   "cell_type": "code",
   "execution_count": 10,
   "id": "9dfb718e",
   "metadata": {},
   "outputs": [
    {
     "name": "stdout",
     "output_type": "stream",
     "text": [
      "\n",
      "        Hello, how would you like to proceed?\n",
      "        1. Enter 1 to create pin\n",
      "        2. Enter 2 to deposit\n",
      "        3. Enter 3 to withdraw\n",
      "        4. Enter 4 to check balance\n",
      "        5. Enter 4 to exit\n",
      "        1\n",
      "Enter your pin and remember it : 2569\n",
      "Pin set successfully\n"
     ]
    }
   ],
   "source": [
    "sbi = Atm()"
   ]
  },
  {
   "cell_type": "code",
   "execution_count": 11,
   "id": "aa1c5f71",
   "metadata": {},
   "outputs": [],
   "source": [
    "#sbi. not accessible private var and methods directly"
   ]
  },
  {
   "cell_type": "markdown",
   "id": "bd74fc1c",
   "metadata": {},
   "source": [
    "## it create new var __balance  != _Atm__balance"
   ]
  },
  {
   "cell_type": "code",
   "execution_count": 12,
   "id": "a8db7aa3",
   "metadata": {},
   "outputs": [
    {
     "name": "stdout",
     "output_type": "stream",
     "text": [
      "Enter your pin : 2569\n",
      "Enter the amount : 2500\n",
      "2500  Deposit successful\n"
     ]
    }
   ],
   "source": [
    "sbi.__balance = \"afjdks\"  \n",
    "sbi.deposit()"
   ]
  },
  {
   "cell_type": "code",
   "execution_count": 13,
   "id": "2be4c320",
   "metadata": {},
   "outputs": [
    {
     "name": "stdout",
     "output_type": "stream",
     "text": [
      "Enter your pin : 2569\n",
      "2500\n"
     ]
    }
   ],
   "source": [
    "sbi.check_balance()"
   ]
  },
  {
   "cell_type": "code",
   "execution_count": 14,
   "id": "ce7cee41",
   "metadata": {},
   "outputs": [
    {
     "name": "stdout",
     "output_type": "stream",
     "text": [
      "afjdks 2500\n"
     ]
    }
   ],
   "source": [
    "print(sbi.__balance, sbi._Atm__balance)"
   ]
  },
  {
   "cell_type": "markdown",
   "id": "22466b25",
   "metadata": {},
   "source": [
    "## => nothing in python is truly private"
   ]
  },
  {
   "cell_type": "code",
   "execution_count": 16,
   "id": "4c01861c",
   "metadata": {},
   "outputs": [
    {
     "name": "stdout",
     "output_type": "stream",
     "text": [
      "Enter your pin : 2569\n",
      "Enter the amount : 2500\n"
     ]
    },
    {
     "ename": "TypeError",
     "evalue": "can only concatenate str (not \"int\") to str",
     "output_type": "error",
     "traceback": [
      "\u001b[1;31m---------------------------------------------------------------------------\u001b[0m",
      "\u001b[1;31mTypeError\u001b[0m                                 Traceback (most recent call last)",
      "\u001b[1;32m~\\AppData\\Local\\Temp/ipykernel_4456/3212902213.py\u001b[0m in \u001b[0;36m<module>\u001b[1;34m\u001b[0m\n\u001b[0;32m      1\u001b[0m \u001b[0msbi\u001b[0m\u001b[1;33m.\u001b[0m\u001b[0m_Atm__balance\u001b[0m \u001b[1;33m=\u001b[0m \u001b[1;34m\"aksf\"\u001b[0m\u001b[1;33m\u001b[0m\u001b[1;33m\u001b[0m\u001b[0m\n\u001b[1;32m----> 2\u001b[1;33m \u001b[0msbi\u001b[0m\u001b[1;33m.\u001b[0m\u001b[0mdeposit\u001b[0m\u001b[1;33m(\u001b[0m\u001b[1;33m)\u001b[0m\u001b[1;33m\u001b[0m\u001b[1;33m\u001b[0m\u001b[0m\n\u001b[0m",
      "\u001b[1;32m~\\AppData\\Local\\Temp/ipykernel_4456/826365622.py\u001b[0m in \u001b[0;36mdeposit\u001b[1;34m(self)\u001b[0m\n\u001b[0;32m     35\u001b[0m         \u001b[1;32mif\u001b[0m \u001b[0mtemp\u001b[0m \u001b[1;33m==\u001b[0m \u001b[0mself\u001b[0m\u001b[1;33m.\u001b[0m\u001b[0m__pin\u001b[0m\u001b[1;33m:\u001b[0m\u001b[1;33m\u001b[0m\u001b[1;33m\u001b[0m\u001b[0m\n\u001b[0;32m     36\u001b[0m             \u001b[0mamount\u001b[0m \u001b[1;33m=\u001b[0m \u001b[0mint\u001b[0m\u001b[1;33m(\u001b[0m\u001b[0minput\u001b[0m\u001b[1;33m(\u001b[0m\u001b[1;34m\"Enter the amount : \"\u001b[0m\u001b[1;33m)\u001b[0m\u001b[1;33m)\u001b[0m\u001b[1;33m\u001b[0m\u001b[1;33m\u001b[0m\u001b[0m\n\u001b[1;32m---> 37\u001b[1;33m             \u001b[0mself\u001b[0m\u001b[1;33m.\u001b[0m\u001b[0m__balance\u001b[0m \u001b[1;33m=\u001b[0m \u001b[0mself\u001b[0m\u001b[1;33m.\u001b[0m\u001b[0m__balance\u001b[0m \u001b[1;33m+\u001b[0m \u001b[0mamount\u001b[0m\u001b[1;33m\u001b[0m\u001b[1;33m\u001b[0m\u001b[0m\n\u001b[0m\u001b[0;32m     38\u001b[0m             \u001b[0mprint\u001b[0m\u001b[1;33m(\u001b[0m\u001b[0mamount\u001b[0m\u001b[1;33m,\u001b[0m \u001b[1;34m\" Deposit successful\"\u001b[0m\u001b[1;33m)\u001b[0m\u001b[1;33m\u001b[0m\u001b[1;33m\u001b[0m\u001b[0m\n\u001b[0;32m     39\u001b[0m         \u001b[1;32melse\u001b[0m\u001b[1;33m:\u001b[0m\u001b[1;33m\u001b[0m\u001b[1;33m\u001b[0m\u001b[0m\n",
      "\u001b[1;31mTypeError\u001b[0m: can only concatenate str (not \"int\") to str"
     ]
    }
   ],
   "source": [
    "sbi._Atm__balance = \"aksf\"  \n",
    "sbi.deposit()  #because string now stored "
   ]
  },
  {
   "cell_type": "markdown",
   "id": "eb4883f5",
   "metadata": {},
   "source": [
    "## using encapsulation => binding variable with method get and set"
   ]
  },
  {
   "cell_type": "code",
   "execution_count": 21,
   "id": "81dc439e",
   "metadata": {},
   "outputs": [],
   "source": [
    "class Atm:\n",
    "\n",
    "    def __init__(self):\n",
    "        self.__pin = \"\"   #python convert it into _Atm__pin, _Atm__balance\n",
    "        self.__balance = 0\n",
    "        self.__menu()\n",
    "    \n",
    "    def get_pin(self):\n",
    "        return self.__pin\n",
    "    def set_pin(self, new_pin):\n",
    "        if type(new_pin) == str:  #in order to avoid sbi.set_pin(5.6)\n",
    "            self.__pin = new_pin\n",
    "            print(\"Pin changed\")\n",
    "        else:\n",
    "            print(\"Not allowed\")\n",
    "\n",
    "    def __menu(self):\n",
    "        user_input = input(\"\"\"\n",
    "        Hello, how would you like to proceed?\n",
    "        1. Enter 1 to create pin\n",
    "        2. Enter 2 to deposit\n",
    "        3. Enter 3 to withdraw\n",
    "        4. Enter 4 to check balance\n",
    "        5. Enter 4 to exit\n",
    "        \"\"\")\n",
    "\n",
    "        if user_input == \"1\":\n",
    "            self.create_pin()\n",
    "        elif user_input == \"2\":\n",
    "            self.deposit()\n",
    "        elif user_input == \"3\":\n",
    "            self.withdraw()\n",
    "        elif user_input == \"4\":\n",
    "            self.check_balance()\n",
    "        else:\n",
    "            print(\"Bye, thank you for using our services\")\n",
    "\n",
    "    def create_pin(self):\n",
    "        self.__pin = input(\"Enter your pin and remember it : \")\n",
    "        print(\"Pin set successfully\")\n",
    "\n",
    "    def deposit(self):\n",
    "        temp = input(\"Enter your pin : \")\n",
    "        if temp == self.__pin:\n",
    "            amount = int(input(\"Enter the amount : \"))\n",
    "            self.__balance = self.__balance + amount\n",
    "            print(amount, \" Deposit successful\")\n",
    "        else:\n",
    "            print(\"Invalid pin\")\n",
    "\n",
    "    def withdraw(self):\n",
    "        temp = input(\"Enter your pin : \")\n",
    "        if temp == self.__pin:\n",
    "            amount = int(input(\"Enter the amount : \"))\n",
    "            if amount <= self.__balance:\n",
    "                self.__balance = self.__balance - amount\n",
    "                print(amount, \" Withdraw successful\")\n",
    "            else:\n",
    "                print(\"Insufficient balance\")\n",
    "        else:\n",
    "            print(\"Invalid pin\")\n",
    "    \n",
    "    def check_balance(self):\n",
    "        temp = input(\"Enter your pin : \")\n",
    "        if temp == self.__pin:\n",
    "            \n",
    "            print(self.__balance)\n",
    "        else:\n",
    "            print(\"Invalid pin\")"
   ]
  },
  {
   "cell_type": "code",
   "execution_count": 22,
   "id": "f5d34e0a",
   "metadata": {},
   "outputs": [
    {
     "name": "stdout",
     "output_type": "stream",
     "text": [
      "\n",
      "        Hello, how would you like to proceed?\n",
      "        1. Enter 1 to create pin\n",
      "        2. Enter 2 to deposit\n",
      "        3. Enter 3 to withdraw\n",
      "        4. Enter 4 to check balance\n",
      "        5. Enter 4 to exit\n",
      "        1\n",
      "Enter your pin and remember it : 2567\n",
      "Pin set successfully\n"
     ]
    }
   ],
   "source": [
    "sbi = Atm()"
   ]
  },
  {
   "cell_type": "code",
   "execution_count": 23,
   "id": "5f310a2a",
   "metadata": {},
   "outputs": [
    {
     "name": "stdout",
     "output_type": "stream",
     "text": [
      "Not allowed\n"
     ]
    }
   ],
   "source": [
    "sbi.set_pin(5.6)"
   ]
  },
  {
   "cell_type": "code",
   "execution_count": 24,
   "id": "e9370331",
   "metadata": {},
   "outputs": [
    {
     "name": "stdout",
     "output_type": "stream",
     "text": [
      "Pin changed\n"
     ]
    }
   ],
   "source": [
    "sbi.set_pin(\"1234\")"
   ]
  },
  {
   "cell_type": "markdown",
   "id": "39e92e56",
   "metadata": {},
   "source": [
    "## Reference Variable"
   ]
  },
  {
   "cell_type": "code",
   "execution_count": 25,
   "id": "4473c058",
   "metadata": {},
   "outputs": [
    {
     "name": "stdout",
     "output_type": "stream",
     "text": [
      "\n",
      "        Hello, how would you like to proceed?\n",
      "        1. Enter 1 to create pin\n",
      "        2. Enter 2 to deposit\n",
      "        3. Enter 3 to withdraw\n",
      "        4. Enter 4 to check balance\n",
      "        5. Enter 4 to exit\n",
      "        1\n",
      "Enter your pin and remember it : 123\n",
      "Pin set successfully\n"
     ]
    },
    {
     "data": {
      "text/plain": [
       "<__main__.Atm at 0x1f948cb0910>"
      ]
     },
     "execution_count": 25,
     "metadata": {},
     "output_type": "execute_result"
    }
   ],
   "source": [
    "Atm()"
   ]
  },
  {
   "cell_type": "markdown",
   "id": "1d95c0b1",
   "metadata": {},
   "source": [
    "### As object is not store in any variable so it can't use further."
   ]
  },
  {
   "cell_type": "code",
   "execution_count": null,
   "id": "630f4c39",
   "metadata": {},
   "outputs": [],
   "source": [
    "sbi = Atm() #here sbi is variable which is storing reference of object => sbi is refernce var"
   ]
  }
 ],
 "metadata": {
  "kernelspec": {
   "display_name": "Python 3 (ipykernel)",
   "language": "python",
   "name": "python3"
  },
  "language_info": {
   "codemirror_mode": {
    "name": "ipython",
    "version": 3
   },
   "file_extension": ".py",
   "mimetype": "text/x-python",
   "name": "python",
   "nbconvert_exporter": "python",
   "pygments_lexer": "ipython3",
   "version": "3.9.7"
  }
 },
 "nbformat": 4,
 "nbformat_minor": 5
}
