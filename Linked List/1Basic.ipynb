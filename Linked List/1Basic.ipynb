{
 "cells": [
  {
   "cell_type": "markdown",
   "metadata": {},
   "source": [
    "### CPP"
   ]
  },
  {
   "cell_type": "markdown",
   "metadata": {},
   "source": [
    "class Node{\n",
    "    \n",
    "    public:\n",
    "    int data;\n",
    "    Node* next;\n",
    "\n",
    "    Node(int data){\n",
    "        this -> data =data;\n",
    "        next=NULL;\n",
    "    }\n",
    "};\n",
    "\n",
    "#include \"0_constructor.cpp\"\n",
    "\n",
    "int main(){\n",
    "\n",
    "    //statically\n",
    "    Node n1(1);    Node *head1=&n1;\n",
    "    Node n2(2);    n1.next=&n2;\n",
    "\n",
    "    cout<<n1.data<<\"  \"<<head1 -> data<<\"  \"<<n2.data<<\"  \"<<n1.next<<\"  \"<<&n2<<endl;\n",
    "\n",
    "    //dynamically\n",
    "    Node* n10=new Node(10);    Node* head2=n10;\n",
    "    Node* n11=new Node(12);    n10 -> next = n11;\n",
    "    \n",
    "    cout<<(*n10).data<<\"  \"<<head2 -> data<<\"  \"<<n11 -> data<<\"  \"<<n10 -> next<<\"  \"<<n11<<endl;\n",
    "}"
   ]
  },
  {
   "cell_type": "markdown",
   "metadata": {},
   "source": [
    "## Python"
   ]
  },
  {
   "cell_type": "code",
   "execution_count": 1,
   "metadata": {},
   "outputs": [],
   "source": [
    "class Node:\n",
    "\n",
    "    def __init__(self, data):\n",
    "        self.data = data\n",
    "        self.next = None"
   ]
  },
  {
   "cell_type": "code",
   "execution_count": 2,
   "metadata": {},
   "outputs": [],
   "source": [
    "n1 = Node(5)\n",
    "n2 = Node(10)\n",
    "n3 = Node(15)\n",
    "n1.next =  n2\n",
    "n2.next = n3\n",
    "head = n1"
   ]
  },
  {
   "cell_type": "code",
   "execution_count": 3,
   "metadata": {},
   "outputs": [],
   "source": [
    "head2 = Node(5)\n",
    "head2.next = Node(6)\n",
    "head2.next.next = Node(7)"
   ]
  },
  {
   "cell_type": "code",
   "execution_count": 4,
   "metadata": {},
   "outputs": [
    {
     "name": "stdout",
     "output_type": "stream",
     "text": [
      "5 5 <__main__.Node object at 0x000002B58FCC9D30> 10\n"
     ]
    }
   ],
   "source": [
    "print(head.data, n1.data, head.next, head.next.data)"
   ]
  },
  {
   "cell_type": "markdown",
   "metadata": {},
   "source": [
    "## Printing"
   ]
  },
  {
   "cell_type": "code",
   "execution_count": 5,
   "metadata": {},
   "outputs": [],
   "source": [
    "def printLL(head):\n",
    "    while head is not None:\n",
    "        print(str(head.data)+\"->\",end='')\n",
    "        head=head.next\n",
    "    print(\"None\")\n",
    "    return\n"
   ]
  },
  {
   "cell_type": "code",
   "execution_count": 6,
   "metadata": {},
   "outputs": [
    {
     "name": "stdout",
     "output_type": "stream",
     "text": [
      "5->10->15->None\n"
     ]
    }
   ],
   "source": [
    "printLL(head)"
   ]
  },
  {
   "cell_type": "markdown",
   "metadata": {},
   "source": [
    "## taking Input\n",
    "\n",
    "### method 1\n",
    "\n",
    "inputList is Extra space complexity"
   ]
  },
  {
   "cell_type": "code",
   "execution_count": 7,
   "metadata": {},
   "outputs": [],
   "source": [
    "def takeInput():\n",
    "    inputList=[int (ele) for ele in input().split()]\n",
    "    head=None\n",
    "    for currData in inputList:\n",
    "        if currData==-1:\n",
    "            break\n",
    "        newNode=Node(currData)\n",
    "        if head is None:\n",
    "            head=newNode\n",
    "        else:\n",
    "            curr=head\n",
    "            while curr.next is not None:\n",
    "                curr=curr.next\n",
    "            curr.next=newNode\n",
    "    return head\n"
   ]
  },
  {
   "cell_type": "code",
   "execution_count": 8,
   "metadata": {},
   "outputs": [
    {
     "name": "stdout",
     "output_type": "stream",
     "text": [
      "1 2 3 4 -1\n",
      "1->2->3->4->None\n"
     ]
    }
   ],
   "source": [
    "head=takeInput()\n",
    "printLL(head)"
   ]
  },
  {
   "cell_type": "markdown",
   "metadata": {},
   "source": [
    "### method 2"
   ]
  },
  {
   "cell_type": "code",
   "execution_count": 13,
   "metadata": {},
   "outputs": [],
   "source": [
    "def takeInput(): \n",
    "    inputList=[int (ele) for ele in input().split()]\n",
    "    head=None\n",
    "    tail=None\n",
    "    for currData in inputList:\n",
    "        if currData==-1:\n",
    "            break\n",
    "        newNode=Node(currData)\n",
    "        if head is None:\n",
    "            head=newNode\n",
    "            tail=newNode\n",
    "        else:\n",
    "            tail.next=newNode\n",
    "            tail=newNode\n",
    "    return head"
   ]
  },
  {
   "cell_type": "code",
   "execution_count": 14,
   "metadata": {},
   "outputs": [
    {
     "name": "stdout",
     "output_type": "stream",
     "text": [
      "10 20 30 40 50 60 70 80 90 -1\n",
      "10->20->30->40->50->60->70->80->90->None\n"
     ]
    }
   ],
   "source": [
    "head2=takeInput()\n",
    "printLL(head2)"
   ]
  },
  {
   "cell_type": "code",
   "execution_count": 17,
   "metadata": {},
   "outputs": [],
   "source": [
    "def takeInput():\n",
    "    head = None\n",
    "    tail = None\n",
    "\n",
    "    data = int(input())\n",
    "    while data != -1:\n",
    "        node = Node(data)\n",
    "        if head == None:\n",
    "            head = node\n",
    "            tail = head\n",
    "            print(\"head successfully created\")\n",
    "        else:\n",
    "            tail.next = node\n",
    "            tail = node\n",
    "            print(\"Node added succesffully\")\n",
    "\n",
    "        data = int(input())\n",
    "\n",
    "    return head"
   ]
  },
  {
   "cell_type": "code",
   "execution_count": 10,
   "metadata": {
    "scrolled": true
   },
   "outputs": [
    {
     "name": "stdout",
     "output_type": "stream",
     "text": [
      "10 20 30 40 50 60 70 80 90 -1\n"
     ]
    },
    {
     "ename": "ValueError",
     "evalue": "invalid literal for int() with base 10: '10 20 30 40 50 60 70 80 90 -1'",
     "output_type": "error",
     "traceback": [
      "\u001b[1;31m---------------------------------------------------------------------------\u001b[0m",
      "\u001b[1;31mValueError\u001b[0m                                Traceback (most recent call last)",
      "\u001b[1;32m~\\AppData\\Local\\Temp/ipykernel_308/1335661250.py\u001b[0m in \u001b[0;36m<module>\u001b[1;34m\u001b[0m\n\u001b[1;32m----> 1\u001b[1;33m \u001b[0mhead\u001b[0m\u001b[1;33m=\u001b[0m\u001b[0mtakeInput\u001b[0m\u001b[1;33m(\u001b[0m\u001b[1;33m)\u001b[0m\u001b[1;33m\u001b[0m\u001b[1;33m\u001b[0m\u001b[0m\n\u001b[0m\u001b[0;32m      2\u001b[0m \u001b[0mprintLL\u001b[0m\u001b[1;33m(\u001b[0m\u001b[0mhead\u001b[0m\u001b[1;33m)\u001b[0m\u001b[1;33m\u001b[0m\u001b[1;33m\u001b[0m\u001b[0m\n",
      "\u001b[1;32m~\\AppData\\Local\\Temp/ipykernel_308/1963728613.py\u001b[0m in \u001b[0;36mtakeInput\u001b[1;34m()\u001b[0m\n\u001b[0;32m      3\u001b[0m     \u001b[0mtail\u001b[0m \u001b[1;33m=\u001b[0m \u001b[1;32mNone\u001b[0m\u001b[1;33m\u001b[0m\u001b[1;33m\u001b[0m\u001b[0m\n\u001b[0;32m      4\u001b[0m \u001b[1;33m\u001b[0m\u001b[0m\n\u001b[1;32m----> 5\u001b[1;33m     \u001b[0mdata\u001b[0m \u001b[1;33m=\u001b[0m \u001b[0mint\u001b[0m\u001b[1;33m(\u001b[0m\u001b[0minput\u001b[0m\u001b[1;33m(\u001b[0m\u001b[1;33m)\u001b[0m\u001b[1;33m)\u001b[0m\u001b[1;33m\u001b[0m\u001b[1;33m\u001b[0m\u001b[0m\n\u001b[0m\u001b[0;32m      6\u001b[0m     \u001b[1;32mwhile\u001b[0m \u001b[0mdata\u001b[0m \u001b[1;33m!=\u001b[0m \u001b[1;33m-\u001b[0m\u001b[1;36m1\u001b[0m\u001b[1;33m:\u001b[0m\u001b[1;33m\u001b[0m\u001b[1;33m\u001b[0m\u001b[0m\n\u001b[0;32m      7\u001b[0m         \u001b[0mnode\u001b[0m \u001b[1;33m=\u001b[0m \u001b[0mNode\u001b[0m\u001b[1;33m(\u001b[0m\u001b[0mdata\u001b[0m\u001b[1;33m)\u001b[0m\u001b[1;33m\u001b[0m\u001b[1;33m\u001b[0m\u001b[0m\n",
      "\u001b[1;31mValueError\u001b[0m: invalid literal for int() with base 10: '10 20 30 40 50 60 70 80 90 -1'"
     ]
    }
   ],
   "source": [
    "head2=takeInput()\n",
    "printLL(head2)"
   ]
  },
  {
   "cell_type": "code",
   "execution_count": 18,
   "metadata": {},
   "outputs": [
    {
     "name": "stdout",
     "output_type": "stream",
     "text": [
      "1\n",
      "head successfully created\n",
      "2\n",
      "Node added succesffully\n",
      "-1\n",
      "1->2->None\n"
     ]
    }
   ],
   "source": [
    "head3=takeInput()\n",
    "printLL(head3)"
   ]
  },
  {
   "cell_type": "markdown",
   "metadata": {},
   "source": [
    "## Length of LL"
   ]
  },
  {
   "cell_type": "code",
   "execution_count": 15,
   "metadata": {},
   "outputs": [],
   "source": [
    "def length(head) :\n",
    "    count=0\n",
    "    while head is not None:\n",
    "        #-1 wrong bcz it's node is not created consider during takeInput()\n",
    "        count+=1\n",
    "        head=head.next\n",
    "    return count"
   ]
  },
  {
   "cell_type": "code",
   "execution_count": 16,
   "metadata": {},
   "outputs": [
    {
     "name": "stdout",
     "output_type": "stream",
     "text": [
      "9\n",
      "4\n"
     ]
    }
   ],
   "source": [
    "print(length(head2))\n",
    "print(length(head))"
   ]
  }
 ],
 "metadata": {
  "kernelspec": {
   "display_name": "Python 3 (ipykernel)",
   "language": "python",
   "name": "python3"
  },
  "language_info": {
   "codemirror_mode": {
    "name": "ipython",
    "version": 3
   },
   "file_extension": ".py",
   "mimetype": "text/x-python",
   "name": "python",
   "nbconvert_exporter": "python",
   "pygments_lexer": "ipython3",
   "version": "3.9.7"
  }
 },
 "nbformat": 4,
 "nbformat_minor": 2
}
