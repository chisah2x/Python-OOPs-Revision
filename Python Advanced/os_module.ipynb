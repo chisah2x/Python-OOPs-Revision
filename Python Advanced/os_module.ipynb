{
 "cells": [
  {
   "cell_type": "code",
   "execution_count": 41,
   "metadata": {},
   "outputs": [],
   "source": [
    "import os"
   ]
  },
  {
   "attachments": {},
   "cell_type": "markdown",
   "metadata": {},
   "source": [
    "### https://www.geeksforgeeks.org/os-module-python-examples/"
   ]
  },
  {
   "cell_type": "code",
   "execution_count": 42,
   "metadata": {},
   "outputs": [
    {
     "data": {
      "text/plain": [
       "'\\n+ os.getcwd()                                            => get current working directory\\n+ os.chdir(<path>)                                    => change directory \\n+ os.listdir()\\t                                            => list directory\\n+ os.mkdir(<dirname>)                           => create a directory\\n+ os.makedirs(<dirname>)                    => make directories recursively\\n+ os.rmdir(<dirname>)\\t                   => remove directory\\n+ os.removedirs(<dirname>)                => remove directory recursively\\n+ os.rename(<from>, <to>)                   => rename file\\n+ os.stat(<filename>)                            => print all info of a file\\n+ os.walk(<path>)\\t                          => traverse directory recursively\\n+ os.environ\\t\\t                                 => get environment variables\\n+ os.path.join(<path>, <file>)              => join path without worrying about /\\n+ os.path.basename(<filename>)     => get basename\\n+ os.path.dirname(<filename>)         => get dirname\\n+ os.path.exists(<path-to-file>)         => check if the path exists or not\\n+ os.path.splitext(<path-to-file>)      => split path and file extension\\n+ dir(os)\\t\\t\\t                               => check what methods exists\\n'"
      ]
     },
     "execution_count": 42,
     "metadata": {},
     "output_type": "execute_result"
    }
   ],
   "source": [
    "'''\n",
    "+ os.getcwd()                                            => get current working directory\n",
    "+ os.chdir(<path>)                                    => change directory \n",
    "+ os.listdir()\t                                            => list directory\n",
    "+ os.mkdir(<dirname>)                           => create a directory\n",
    "+ os.makedirs(<dirname>)                    => make directories recursively\n",
    "+ os.rmdir(<dirname>)\t                   => remove directory\n",
    "+ os.removedirs(<dirname>)                => remove directory recursively\n",
    "+ os.rename(<from>, <to>)                   => rename file\n",
    "+ os.stat(<filename>)                            => print all info of a file\n",
    "+ os.walk(<path>)\t                          => traverse directory recursively\n",
    "+ os.environ\t\t                                 => get environment variables\n",
    "+ os.path.join(<path>, <file>)              => join path without worrying about /\n",
    "+ os.path.basename(<filename>)     => get basename\n",
    "+ os.path.dirname(<filename>)         => get dirname\n",
    "+ os.path.exists(<path-to-file>)         => check if the path exists or not\n",
    "+ os.path.splitext(<path-to-file>)      => split path and file extension\n",
    "+ dir(os)\t\t\t                               => check what methods exists\n",
    "'''"
   ]
  },
  {
   "cell_type": "code",
   "execution_count": 43,
   "metadata": {},
   "outputs": [
    {
     "name": "stdout",
     "output_type": "stream",
     "text": [
      "C:\\Users\\chira\\OneDrive\\Documents\\Python-Revision\\Intermediate\n"
     ]
    }
   ],
   "source": [
    "print(os.getcwd()) #get current work directory"
   ]
  },
  {
   "cell_type": "code",
   "execution_count": 44,
   "metadata": {},
   "outputs": [],
   "source": [
    "os.chdir(\"C://\") #change directory"
   ]
  },
  {
   "cell_type": "code",
   "execution_count": 45,
   "metadata": {},
   "outputs": [
    {
     "name": "stdout",
     "output_type": "stream",
     "text": [
      "C:\\\n"
     ]
    }
   ],
   "source": [
    "print(os.getcwd()) "
   ]
  },
  {
   "cell_type": "code",
   "execution_count": 46,
   "metadata": {},
   "outputs": [
    {
     "name": "stdout",
     "output_type": "stream",
     "text": [
      "C:\\Users\\chira\\OneDrive\\Documents\\Python-Revision\n"
     ]
    }
   ],
   "source": [
    "os.chdir(\"C:/Users/chira/OneDrive/Documents/Python-Revision\")\n",
    "print(os.getcwd()) "
   ]
  },
  {
   "cell_type": "code",
   "execution_count": 47,
   "metadata": {},
   "outputs": [
    {
     "name": "stdout",
     "output_type": "stream",
     "text": [
      "['.git', 'Intermediate', 'OOPs and Exception handling', 'README.md']\n"
     ]
    }
   ],
   "source": [
    "print(os.listdir())"
   ]
  },
  {
   "cell_type": "code",
   "execution_count": 48,
   "metadata": {},
   "outputs": [
    {
     "name": "stdout",
     "output_type": "stream",
     "text": [
      "['All Users', 'chira', 'Default', 'Default User', 'desktop.ini', 'Public']\n"
     ]
    }
   ],
   "source": [
    "print(os.listdir(\"C:/Users\"))"
   ]
  },
  {
   "cell_type": "code",
   "execution_count": 49,
   "metadata": {},
   "outputs": [],
   "source": [
    "os.mkdir(\"Basic DSA\") #for making folder"
   ]
  },
  {
   "cell_type": "code",
   "execution_count": 50,
   "metadata": {},
   "outputs": [],
   "source": [
    "os.mkdir(\"Basic DSA/array\")"
   ]
  },
  {
   "cell_type": "code",
   "execution_count": 51,
   "metadata": {},
   "outputs": [
    {
     "ename": "FileNotFoundError",
     "evalue": "[WinError 3] The system cannot find the path specified: 'Intermediate DSA/Trees'",
     "output_type": "error",
     "traceback": [
      "\u001b[1;31m---------------------------------------------------------------------------\u001b[0m",
      "\u001b[1;31mFileNotFoundError\u001b[0m                         Traceback (most recent call last)",
      "\u001b[1;32m~\\AppData\\Local\\Temp/ipykernel_1820/1129246579.py\u001b[0m in \u001b[0;36m<module>\u001b[1;34m\u001b[0m\n\u001b[1;32m----> 1\u001b[1;33m \u001b[0mos\u001b[0m\u001b[1;33m.\u001b[0m\u001b[0mmkdir\u001b[0m\u001b[1;33m(\u001b[0m\u001b[1;34m\"Intermediate DSA/Trees\"\u001b[0m\u001b[1;33m)\u001b[0m\u001b[1;33m\u001b[0m\u001b[1;33m\u001b[0m\u001b[0m\n\u001b[0m",
      "\u001b[1;31mFileNotFoundError\u001b[0m: [WinError 3] The system cannot find the path specified: 'Intermediate DSA/Trees'"
     ]
    }
   ],
   "source": [
    "os.mkdir(\"Intermediate DSA/Trees\")"
   ]
  },
  {
   "cell_type": "code",
   "execution_count": null,
   "metadata": {},
   "outputs": [],
   "source": [
    "os.makedirs(\"Intermediate DSA/Trees\")"
   ]
  },
  {
   "cell_type": "code",
   "execution_count": null,
   "metadata": {},
   "outputs": [],
   "source": [
    "os.rename(\"Intermediate Python\", \"Python Important Syntax\")"
   ]
  },
  {
   "cell_type": "code",
   "execution_count": null,
   "metadata": {},
   "outputs": [
    {
     "name": "stdout",
     "output_type": "stream",
     "text": [
      "C:\\Users\\chira\\anaconda3;C:\\Users\\chira\\anaconda3\\Library\\mingw-w64\\bin;C:\\Users\\chira\\anaconda3\\Library\\usr\\bin;C:\\Users\\chira\\anaconda3\\Library\\bin;C:\\Users\\chira\\anaconda3\\Scripts;C:\\Users\\chira\\anaconda3\\bin;C:\\Users\\chira\\anaconda3\\condabin;C:\\Users\\chira\\anaconda3;C:\\Users\\chira\\anaconda3\\Library\\mingw-w64\\bin;C:\\Users\\chira\\anaconda3\\Library\\usr\\bin;C:\\Users\\chira\\anaconda3\\Library\\bin;C:\\Users\\chira\\anaconda3\\Scripts;C:\\Users\\chira\\anaconda3\\bin;C:\\WINDOWS\\system32;C:\\WINDOWS;C:\\WINDOWS\\System32\\Wbem;C:\\WINDOWS\\System32\\WindowsPowerShell\\v1.0;C:\\WINDOWS\\System32\\OpenSSH;C:\\MinGW\\bin;C:\\Program Files\\Git\\cmd;C:\\Users\\chira\\anaconda3;C:\\Users\\chira\\anaconda3\\Library\\mingw-w64\\bin;C:\\Users\\chira\\anaconda3\\Library\\usr\\bin;C:\\Users\\chira\\anaconda3\\Library\\bin;C:\\Users\\chira\\anaconda3\\Scripts;C:\\Users\\chira\\AppData\\Local\\Microsoft\\WindowsApps;C:\\MinGW\\bin;C:\\Users\\chira\\AppData\\Local\\Programs\\Microsoft VS Code\\bin;.\n"
     ]
    }
   ],
   "source": [
    "print(os.environ.get('Path'))"
   ]
  },
  {
   "cell_type": "code",
   "execution_count": null,
   "metadata": {},
   "outputs": [
    {
     "data": {
      "text/plain": [
       "'C:/Documents/Python-Revision'"
      ]
     },
     "execution_count": 23,
     "metadata": {},
     "output_type": "execute_result"
    }
   ],
   "source": [
    "os.path.join(\"C:/Users/chira/OneDrive//\", \"/Documents/Python-Revision\")"
   ]
  },
  {
   "cell_type": "code",
   "execution_count": null,
   "metadata": {},
   "outputs": [
    {
     "data": {
      "text/plain": [
       "'C:/Documents/Python-Revision'"
      ]
     },
     "execution_count": 24,
     "metadata": {},
     "output_type": "execute_result"
    }
   ],
   "source": [
    "os.path.join(\"C:/Users/chira/OneDrive\", \"/Documents/Python-Revision\")"
   ]
  },
  {
   "cell_type": "code",
   "execution_count": null,
   "metadata": {},
   "outputs": [
    {
     "data": {
      "text/plain": [
       "'C:/Users/chira/OneDrive\\\\Documents/Python-Revision'"
      ]
     },
     "execution_count": 25,
     "metadata": {},
     "output_type": "execute_result"
    }
   ],
   "source": [
    "os.path.join(\"C:/Users/chira/OneDrive\", \"Documents/Python-Revision\")"
   ]
  },
  {
   "cell_type": "code",
   "execution_count": null,
   "metadata": {},
   "outputs": [
    {
     "name": "stdout",
     "output_type": "stream",
     "text": [
      "True\n"
     ]
    }
   ],
   "source": [
    "print(os.path.exists('C:/Users/chira/OneDrive\\\\Documents/Python-Revision'))"
   ]
  },
  {
   "cell_type": "code",
   "execution_count": null,
   "metadata": {},
   "outputs": [
    {
     "name": "stdout",
     "output_type": "stream",
     "text": [
      "False\n"
     ]
    }
   ],
   "source": [
    "print(os.path.exists('C:/Documents/Python-Revision'))"
   ]
  },
  {
   "cell_type": "code",
   "execution_count": null,
   "metadata": {},
   "outputs": [
    {
     "name": "stdout",
     "output_type": "stream",
     "text": [
      "True\n"
     ]
    }
   ],
   "source": [
    "print(os.path.isdir(\"C:/Users/chira/OneDrive\\\\Documents/Python-Revision\"))"
   ]
  },
  {
   "cell_type": "code",
   "execution_count": null,
   "metadata": {},
   "outputs": [
    {
     "name": "stdout",
     "output_type": "stream",
     "text": [
      "False\n"
     ]
    }
   ],
   "source": [
    "print(os.path.isfile(\"C:/Users/chira/OneDrive\\\\Documents/Python-Revision\"))"
   ]
  },
  {
   "cell_type": "code",
   "execution_count": null,
   "metadata": {},
   "outputs": [],
   "source": []
  }
 ],
 "metadata": {
  "kernelspec": {
   "display_name": "base",
   "language": "python",
   "name": "python3"
  },
  "language_info": {
   "codemirror_mode": {
    "name": "ipython",
    "version": 3
   },
   "file_extension": ".py",
   "mimetype": "text/x-python",
   "name": "python",
   "nbconvert_exporter": "python",
   "pygments_lexer": "ipython3",
   "version": "3.9.7"
  },
  "orig_nbformat": 4
 },
 "nbformat": 4,
 "nbformat_minor": 2
}
